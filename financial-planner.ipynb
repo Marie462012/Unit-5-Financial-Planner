{
 "cells": [
  {
   "cell_type": "markdown",
   "metadata": {},
   "source": [
    "# Unit 5 - Financial Planning"
   ]
  },
  {
   "cell_type": "code",
   "execution_count": 3,
   "metadata": {},
   "outputs": [],
   "source": [
    "# Initial imports\n",
    "import os\n",
    "import requests\n",
    "import pandas as pd\n",
    "from dotenv import load_dotenv\n",
    "import alpaca_trade_api as tradeapi\n",
    "from MCForecastTools import MCSimulation\n",
    "\n",
    "%matplotlib inline"
   ]
  },
  {
   "cell_type": "code",
   "execution_count": 4,
   "metadata": {},
   "outputs": [
    {
     "data": {
      "text/plain": [
       "True"
      ]
     },
     "execution_count": 4,
     "metadata": {},
     "output_type": "execute_result"
    }
   ],
   "source": [
    "# Load .env enviroment variables\n",
    "load_dotenv()"
   ]
  },
  {
   "cell_type": "markdown",
   "metadata": {},
   "source": [
    "## Part 1 - Personal Finance Planner"
   ]
  },
  {
   "cell_type": "markdown",
   "metadata": {},
   "source": [
    "### Collect Crypto Prices Using the `requests` Library"
   ]
  },
  {
   "cell_type": "code",
   "execution_count": 5,
   "metadata": {},
   "outputs": [],
   "source": [
    "# Set current amount of crypto assets\n",
    "my_btc = 1.2\n",
    "my_eth= 5.3"
   ]
  },
  {
   "cell_type": "code",
   "execution_count": 6,
   "metadata": {},
   "outputs": [],
   "source": [
    "# The average monthly household income for each union member\n",
    "monthly_income = 12000"
   ]
  },
  {
   "cell_type": "code",
   "execution_count": 7,
   "metadata": {},
   "outputs": [],
   "source": [
    "# Crypto API URLs\n",
    "btc_url = \"https://api.alternative.me/v2/ticker/Bitcoin/?convert=USD\"\n",
    "eth_url = \"https://api.alternative.me/v2/ticker/Ethereum/?convert=USD\""
   ]
  },
  {
   "cell_type": "code",
   "execution_count": 10,
   "metadata": {},
   "outputs": [
    {
     "name": "stdout",
     "output_type": "stream",
     "text": [
      "The current value of your 1.2 BTC is $26600.00\n",
      "The current value of your 5.3 ETH is $1591.86\n"
     ]
    }
   ],
   "source": [
    "# Fetch current BTC price\n",
    "btc_response_data = requests.get(btc_url).json()\n",
    "btc_response_data\n",
    "\n",
    "# Fetch current ETH price\n",
    "eth_response_data = requests.get(eth_url).json()\n",
    "eth_response_data\n",
    "\n",
    "# Compute current value of my crypto\n",
    "btc_current_value = btc_response_data['data']['1']['quotes']['USD']['price']\n",
    "eth_current_value = eth_response_data['data']['1027']['quotes']['USD']['price']\n",
    "\n",
    "# Print current crypto wallet balance\n",
    "print(f\"The current value of your {my_btc} BTC is ${btc_current_value:0.2f}\") #0.2f prints two decimals on a float\n",
    "print(f\"The current value of your {my_eth} ETH is ${eth_current_value:0.2f}\")\n"
   ]
  },
  {
   "cell_type": "markdown",
   "metadata": {},
   "source": [
    "### Collect Investments Data Using Alpaca: `SPY` (stocks) and `AGG` (bonds)"
   ]
  },
  {
   "cell_type": "code",
   "execution_count": 11,
   "metadata": {},
   "outputs": [],
   "source": [
    "# Set current amount of shares\n",
    "my_agg = 200\n",
    "my_spy = 50"
   ]
  },
  {
   "cell_type": "code",
   "execution_count": 12,
   "metadata": {},
   "outputs": [],
   "source": [
    "# Set Alpaca API key and secret\n",
    "alpaca_api_key = os.getenv(\"ALPACA_API_KEY\")\n",
    "alpaca_secret_key = os.getenv(\"ALPACA_SECRET_KEY\")\n",
    "\n",
    "# Create the Alpaca API object\n",
    "api = tradeapi.REST(\n",
    "    alpaca_api_key,\n",
    "    alpaca_secret_key,\n",
    "    api_version=\"V2\")"
   ]
  },
  {
   "cell_type": "code",
   "execution_count": null,
   "metadata": {},
   "outputs": [],
   "source": [
    "# Format current date as ISO format\n",
    "today = pd.Timestamp(\"2021-10-8\", tz=\"America/New_York\").isoformat()\n",
    "\n",
    "# Set the tickers\n",
    "tickers = [\"AGG\", \"SPY\"]\n",
    "\n",
    "# Set timeframe to '1 day for Alpaca API\n",
    "timeframe = \"1 Day\"\n",
    "\n",
    "# Get current closing prices for SPY and AGG\n",
    "df_portfolio = api.get_bars(\n",
    "    tickers,\n",
    "    timeframe,\n",
    "    start = today,\n",
    "    end = today,\n",
    "    limit = 1000\n",
    ").df\n",
    "\n",
    "# Preview DataFrame\n",
    "df_portfolio().head"
   ]
  },
  {
   "cell_type": "code",
   "execution_count": null,
   "metadata": {},
   "outputs": [],
   "source": [
    "# Pick AGG and SPY close prices\n",
    "agg_close_price = float(df_portfolio[\"AGG\"][\"close\"])\n",
    "spy_close_price = float(df_portfolio[\"SPY\"][\"close\"])\n",
    "\n",
    "# Print AGG and SPY close prices\n",
    "print(f\"Current AGG closing price: ${agg_close_price}\")\n",
    "print(f\"Current SPY closing price: ${spy_close_price}\")"
   ]
  },
  {
   "cell_type": "code",
   "execution_count": null,
   "metadata": {},
   "outputs": [],
   "source": [
    "# Compute the current value of shares\n",
    "my_spy_value = my_spy * spy_close_price\n",
    "my_agg_value = my_agg * agg_close_price\n",
    "\n",
    "# Print current value of shares\n",
    "print(f\"The current value of your {my_spy} SPY shares is ${my_spy_value:0.2f}\")\n",
    "print(f\"The current value of your {my_agg} AGG shares is ${my_agg_value:0.2f}\")"
   ]
  },
  {
   "cell_type": "markdown",
   "metadata": {},
   "source": [
    "### Savings Health Analysis"
   ]
  },
  {
   "cell_type": "code",
   "execution_count": null,
   "metadata": {},
   "outputs": [],
   "source": [
    "# Set monthly household income\n",
    "monthly_income = 12000\n",
    "\n",
    "# Consolidate financial assets data\n",
    "crypto_assets = btc_current_value + eth_current_value  #adding together all crypto\n",
    "stock_bond_assets = my_agg_value + my_agg_value #adding together all stocks and bonds\n",
    "\n",
    "value_data = {\n",
    "    'amount': [crypto_assets, stock_bond_assets],\n",
    "    'asset': [\"crypto\", \"shares\"]\n",
    "}\n",
    "\n",
    "# Create savings DataFrame\n",
    "df_savings = pd.DataFrame(value_data).set_index('asset')\n",
    "\n",
    "# Display savings DataFrame\n",
    "display(df_savings)"
   ]
  },
  {
   "cell_type": "code",
   "execution_count": null,
   "metadata": {},
   "outputs": [],
   "source": [
    "# Plot savings pie chart\n",
    "# Plot savings pie chart\n",
    "pie_chart = df_savings.plot.pie(y= 'amount', title=\"Savings Portfolio Composition\", figsize=(5,5))"
   ]
  },
  {
   "cell_type": "code",
   "execution_count": null,
   "metadata": {},
   "outputs": [],
   "source": [
    "# Set ideal emergency fund\n",
    "emergency_fund = monthly_income * 3\n",
    "\n",
    "# Calculate total amount of savings\n",
    "total_savings = df_savings['amount'].sum()\n",
    "\n",
    "\n",
    "# Validate saving health\n",
    "\n",
    "#If total savings are greater than the emergency fund, display a message congratulating the person for having enough money in this fund.\n",
    "if total_savings > emergency_fund:\n",
    "    print(f\"Congratulations! You have enough money in your emergency fund.\")\n",
    "\n",
    "#If total savings are equal to the emergency fund, display a message congratulating the person on reaching this financial goal.\n",
    "elif total_savings == emergency_fund:\n",
    "    print(f\"You have reached your financial goal!\")\n",
    "\n",
    "#If total savings are less than the emergency fund, display a message showing how many dollars away the person is from reaching the goal.\n",
    "else:\n",
    "    print(f\"You're ${emergency_fund - total_savings:0.2f} away from achieving your financial goal. Keep saving!\")"
   ]
  },
  {
   "cell_type": "markdown",
   "metadata": {},
   "source": [
    "## Part 2 - Retirement Planning\n",
    "\n",
    "### Monte Carlo Simulation"
   ]
  },
  {
   "cell_type": "code",
   "execution_count": null,
   "metadata": {},
   "outputs": [],
   "source": [
    "# Set start and end dates of five years back from today.\n",
    "# Sample results may vary from the solution based on the time frame chosen\n",
    "start_date = pd.Timestamp('2016-05-01', tz='America/New_York').isoformat()\n",
    "end_date = pd.Timestamp('2021-05-01', tz='America/New_York').isoformat()"
   ]
  },
  {
   "cell_type": "code",
   "execution_count": null,
   "metadata": {},
   "outputs": [],
   "source": [
    "# Get 5 years' worth of historical data for SPY and AGG\n",
    "# (use a limit=1000 parameter to call the most recent 1000 days of data)\n",
    "\n",
    "#The 5 year time period is greater than 1000 days. I will use two dataframes to obtain the data from the Alpaca API and then concatenate them.\n",
    "\n",
    "df_portfolio_3_year = api.get_bars(\n",
    "    tickers,\n",
    "    timeframe,\n",
    "    start = start_date,\n",
    "    end = end_date,\n",
    "    limit = 1000\n",
    ").df\n",
    "\n",
    "df_portfolio_2_year = api.get_bars(\n",
    "    tickers,\n",
    "    timeframe,\n",
    "    start = start_date\n",
    "    end = end_date\n",
    "    limit = 1000\n",
    ").df\n",
    "\n",
    "\n",
    "# Concatenate dataframes\n",
    "df_portfolio_5_year = pd.concat((df_portfolio_3_year,df_portfolio_2_year),axis=\"rows\", join=\"inner\", sort=True).dropna()\n",
    "\n",
    "# Display sample data\n",
    "df_portfolio_5_year.head()"
   ]
  },
  {
   "cell_type": "code",
   "execution_count": null,
   "metadata": {},
   "outputs": [],
   "source": [
    "# Configuring a Monte Carlo simulation to forecast 30 years cumulative returns\n",
    "num_sims = 500\n",
    "\n",
    "MC_portfolio = MCSimulation(\n",
    "    portfolio_data = df_portfolio_5_year,\n",
    "    weights = [0.6,0.4],\n",
    "    num_simulation = num_sims,\n",
    "    num_trading_days = 252*30"
   ]
  },
  {
   "cell_type": "code",
   "execution_count": null,
   "metadata": {},
   "outputs": [],
   "source": [
    "# Printing the simulation input data\n",
    "MC_portfolio.portfolio_data.head()"
   ]
  },
  {
   "cell_type": "code",
   "execution_count": null,
   "metadata": {},
   "outputs": [],
   "source": [
    "# Running a Monte Carlo simulation to forecast 30 years cumulative returns\n",
    "MC_portfolio.calc_cumulative_return()"
   ]
  },
  {
   "cell_type": "code",
   "execution_count": null,
   "metadata": {},
   "outputs": [],
   "source": [
    "# Plot simulation outcomes\n",
    "line_plot = MC_portfolio.plot_simulation()"
   ]
  },
  {
   "cell_type": "code",
   "execution_count": null,
   "metadata": {},
   "outputs": [],
   "source": [
    "# Plot probability distribution and confidence intervals\n",
    "dist_plot = MC_portfolio.plot_distribution"
   ]
  },
  {
   "cell_type": "markdown",
   "metadata": {},
   "source": [
    "### Retirement Analysis"
   ]
  },
  {
   "cell_type": "code",
   "execution_count": null,
   "metadata": {},
   "outputs": [],
   "source": [
    "# Fetch summary statistics from the Monte Carlo simulation results\n",
    "sum_tbl = MC_portfolio.summarize_cumulative_return()\n",
    "\n",
    "# Print summary statistics\n",
    "print(sum_tbl)"
   ]
  },
  {
   "cell_type": "markdown",
   "metadata": {},
   "source": [
    "### Calculate the expected portfolio return at the `95%` lower and upper confidence intervals based on a `$20,000` initial investment."
   ]
  },
  {
   "cell_type": "code",
   "execution_count": null,
   "metadata": {},
   "outputs": [],
   "source": [
    "# Set initial investment\n",
    "initial_investment = 20000\n",
    "\n",
    "# Use the lower and upper `95%` confidence intervals to calculate the range of the possible outcomes of our $20,000\n",
    "ci_lower = round(sum_tbl[8]*initial_investment,2)\n",
    "ci_upper = round(sum_tbl[9]*initial_investment,2)\n",
    "\n",
    "# Print results\n",
    "print(f\"There is a 95% chance that an initial investment of ${initial_investment} in the portfolio\"\n",
    "      f\" over the next 30 years will end within in the range of\"\n",
    "      f\" ${ci_lower} and ${ci_upper}\")"
   ]
  },
  {
   "cell_type": "markdown",
   "metadata": {},
   "source": [
    "### Calculate the expected portfolio return at the `95%` lower and upper confidence intervals based on a `50%` increase in the initial investment."
   ]
  },
  {
   "cell_type": "code",
   "execution_count": null,
   "metadata": {},
   "outputs": [],
   "source": [
    "# Set initial investment\n",
    "initial_investment = 20000 * 1.5\n",
    "\n",
    "# Use the lower and upper `95%` confidence intervals to calculate the range of the possible outcomes of our $30,000\n",
    "ci_lower = round(sum_tbl[8]*initial_investment,2)\n",
    "ci_upper = round(sum_tbl[9]*initial_investment,2)\n",
    "\n",
    "# Print results\n",
    "print(f\"There is a 95% chance that an initial investment of ${initial_investment} in the portfolio\"\n",
    "      f\" over the next 30 years will end within in the range of\"\n",
    "      f\" ${ci_lower} and ${ci_upper}\")"
   ]
  },
  {
   "cell_type": "markdown",
   "metadata": {},
   "source": [
    "## Optional Challenge - Early Retirement\n",
    "\n",
    "\n",
    "### Five Years Retirement Option"
   ]
  },
  {
   "cell_type": "code",
   "execution_count": null,
   "metadata": {},
   "outputs": [],
   "source": [
    "# Configuring a Monte Carlo simulation to forecast 5 years cumulative returns\n",
    "num_sims = 1000\n",
    "\n",
    "MC_Daily = MCSimulation(\n",
    "    portfolio_data = df_stock_data,\n",
    "    weights = [.20,.80],\n",
    "    num_simulation = num_sims,\n",
    "    num_trading_days = 252*5\n",
    ")"
   ]
  },
  {
   "cell_type": "code",
   "execution_count": null,
   "metadata": {},
   "outputs": [],
   "source": [
    "# Running a Monte Carlo simulation to forecast 5 years cumulative returns\n",
    "MC_Daily.portfolio_data.head()"
   ]
  },
  {
   "cell_type": "code",
   "execution_count": null,
   "metadata": {},
   "outputs": [],
   "source": [
    "# Plot simulation outcomes\n",
    "MC_Daily.calc_cumulative_return()"
   ]
  },
  {
   "cell_type": "code",
   "execution_count": null,
   "metadata": {},
   "outputs": [],
   "source": [
    "# Plot probability distribution and confidence intervals\n",
    "dist_plot = MC_Daily.plot_distribution()"
   ]
  },
  {
   "cell_type": "code",
   "execution_count": null,
   "metadata": {},
   "outputs": [],
   "source": [
    "# Fetch summary statistics from the Monte Carlo simulation results\n",
    "sum_tbl = MC_Daily.summarize_cumulative_return()\n",
    "# Print summary statistics\n",
    "print(sum_tbl)"
   ]
  },
  {
   "cell_type": "code",
   "execution_count": null,
   "metadata": {},
   "outputs": [],
   "source": [
    "# Set initial investment\n",
    "initial_investment = 60000\n",
    "\n",
    "# Use the lower and upper `95%` confidence intervals to calculate the range of the possible outcomes of our $60,000\n",
    "ci_lower_five = round(sum_tbl[8]*initial_investment,2)\n",
    "ci_upper_five = round(sum_tbl[9]*initial_investment,2)\n",
    "\n",
    "\n",
    "# Print results\n",
    "print(f\"There is a 95% chance that an initial investment of ${initial_investment} in the portfolio\"\n",
    "      f\" over the next 5 years will end within in the range of\"\n",
    "      f\" ${ci_lower_five} and ${ci_upper_five}\")"
   ]
  },
  {
   "cell_type": "markdown",
   "metadata": {},
   "source": [
    "### Ten Years Retirement Option"
   ]
  },
  {
   "cell_type": "code",
   "execution_count": null,
   "metadata": {},
   "outputs": [],
   "source": [
    "# Configuring a Monte Carlo simulation to forecast 10 years cumulative returns\n",
    "num_sims = 1000\n",
    "\n",
    "MC_Daily = MCSimulation(\n",
    "    portfolio_data = df_stock_data,\n",
    "    weights = [.20,.80],\n",
    "    num_simulation = num_sims,\n",
    "    num_trading_days = 252*10"
   ]
  },
  {
   "cell_type": "code",
   "execution_count": null,
   "metadata": {},
   "outputs": [],
   "source": [
    "# Running a Monte Carlo simulation to forecast 10 years cumulative returns\n",
    "MC_Daily.portfolio_data.head()"
   ]
  },
  {
   "cell_type": "code",
   "execution_count": null,
   "metadata": {},
   "outputs": [],
   "source": [
    "# Plot simulation outcomes\n",
    "MC_Daily.calc_cumulative_return()"
   ]
  },
  {
   "cell_type": "code",
   "execution_count": null,
   "metadata": {},
   "outputs": [],
   "source": [
    "# Plot probability distribution and confidence intervals\n",
    "dist_plot = MC_Daily.plot_distribution()"
   ]
  },
  {
   "cell_type": "code",
   "execution_count": null,
   "metadata": {},
   "outputs": [],
   "source": [
    "# Fetch summary statistics from the Monte Carlo simulation results\n",
    "sum_tbl = MC_Daily.summarize_cumulative_return()\n",
    "\n",
    "# Print summary statistics\n",
    "print(sum_tbl)"
   ]
  },
  {
   "cell_type": "code",
   "execution_count": null,
   "metadata": {},
   "outputs": [],
   "source": [
    "# Set initial investment\n",
    "initial_investment = 60000\n",
    "\n",
    "# Use the lower and upper `95%` confidence intervals to calculate the range of the possible outcomes of our $60,000\n",
    "ci_lower_five = round(sum_tbl[8]*initial_investment,2)\n",
    "ci_upper_five = round(sum_tbl[9]*initial_investment,2)\n",
    "\n",
    "# Print results\n",
    "print(f\"There is a 95% chance that an initial investment of ${initial_investment} in the portfolio\"\n",
    "      f\" over the next 10 years will end within in the range of\"\n",
    "      f\" ${ci_lower_ten} and ${ci_upper_ten}\")"
   ]
  },
  {
   "cell_type": "code",
   "execution_count": null,
   "metadata": {},
   "outputs": [],
   "source": []
  }
 ],
 "metadata": {
  "kernelspec": {
   "display_name": "Python 3",
   "language": "python",
   "name": "python3"
  },
  "language_info": {
   "codemirror_mode": {
    "name": "ipython",
    "version": 3
   },
   "file_extension": ".py",
   "mimetype": "text/x-python",
   "name": "python",
   "nbconvert_exporter": "python",
   "pygments_lexer": "ipython3",
   "version": "3.10.12"
  },
  "nteract": {
   "version": "0.28.0"
  }
 },
 "nbformat": 4,
 "nbformat_minor": 4
}
